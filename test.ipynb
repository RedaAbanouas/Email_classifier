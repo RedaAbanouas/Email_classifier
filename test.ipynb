{
 "cells": [
  {
   "cell_type": "code",
   "id": "initial_id",
   "metadata": {
    "collapsed": true,
    "ExecuteTime": {
     "end_time": "2025-03-16T18:07:04.408804Z",
     "start_time": "2025-03-16T18:06:59.630562Z"
    }
   },
   "source": [
    "import pandas as pd\n",
    "df = pd.read_excel(\"Projet_SPAM.xlsx\")\n",
    "print(df.head())\n",
    "X = df[df[\"type\"] == \"Spam\"]"
   ],
   "outputs": [
    {
     "name": "stdout",
     "output_type": "stream",
     "text": [
      "                                               email  type\n",
      "0  Félicitations ! Vous avez été choisi pour un c...  Spam\n",
      "1  URGENT ! Vous avez gagné un BONUS EXCEPTIONNEL...  Spam\n",
      "2  Votre compte bancaire est bloqué, veuillez sai...  Spam\n",
      "3  Virement instantané : vous avez reçu 500€, sai...  Spam\n",
      "4  Vous avez été choisi ! Inscrivez-vous GRATUITE...  Spam\n"
     ]
    }
   ],
   "execution_count": 4
  },
  {
   "metadata": {
    "ExecuteTime": {
     "end_time": "2025-03-16T18:07:06.033594Z",
     "start_time": "2025-03-16T18:07:06.022466Z"
    }
   },
   "cell_type": "code",
   "source": "print(X)",
   "id": "d86f732f03888c34",
   "outputs": [
    {
     "name": "stdout",
     "output_type": "stream",
     "text": [
      "                                                 email  type\n",
      "0    Félicitations ! Vous avez été choisi pour un c...  Spam\n",
      "1    URGENT ! Vous avez gagné un BONUS EXCEPTIONNEL...  Spam\n",
      "2    Votre compte bancaire est bloqué, veuillez sai...  Spam\n",
      "3    Virement instantané : vous avez reçu 500€, sai...  Spam\n",
      "4    Vous avez été choisi ! Inscrivez-vous GRATUITE...  Spam\n",
      "..                                                 ...   ...\n",
      "141  Cher utilisateur,\\n\\nVous avez besoin d'argent...  Spam\n",
      "142  Bonjour,\\n\\nNous avons des iPhone 13 à vendre ...  Spam\n",
      "143  Cher investisseur potentiel,\\n\\nNous vous offr...  Spam\n",
      "144  Salut,\\n\\nVous souhaitez connaître les secrets...  Spam\n",
      "145  Vous avez oublié un mot de passe ? Nous avons ...  Spam\n",
      "\n",
      "[87 rows x 2 columns]\n"
     ]
    }
   ],
   "execution_count": 5
  },
  {
   "metadata": {
    "ExecuteTime": {
     "end_time": "2025-03-16T18:07:21.696606Z",
     "start_time": "2025-03-16T18:07:08.498637Z"
    }
   },
   "cell_type": "code",
   "source": [
    "from collections import Counter\n",
    "import re\n",
    "from nltk.corpus import stopwords\n",
    "import nltk\n",
    "nltk.download('stopwords')\n",
    "stop_words = set(stopwords.words('french'))\n",
    "print(stop_words)\n"
   ],
   "id": "f1be350228ecb8ae",
   "outputs": [
    {
     "name": "stdout",
     "output_type": "stream",
     "text": [
      "{'seras', 'nous', 'furent', 'étant', 'nos', 'mais', 'étée', 'fut', 'mes', 'aux', 'fussent', 'auraient', 'fusse', 'sur', 'fus', 'soit', 'étais', 'eusse', 'du', 'ayons', 'eûtes', 'son', 'd', 'ils', 'sois', 'la', 'fussiez', 'eus', 'sera', 'leur', 'fussions', 'êtes', 'aurait', 'les', 'un', 'eux', 'serons', 'c', 'par', 'aurons', 'il', 'étions', 'ayante', 'eusses', 'eut', 'qui', 'se', 'avais', 'lui', 'et', 'aient', 'ton', 'avaient', 'de', 'notre', 'eussent', 'au', 'eûmes', 'ces', 'était', 'auras', 'me', 'ou', 'sommes', 'y', 'n', 't', 'étaient', 'eu', 'eussiez', 'je', 'étants', 'dans', 'eussions', 'seraient', 'on', 'aurions', 'auriez', 'étés', 'pas', 'étiez', 'serez', 'fûmes', 'vous', 'fûtes', 'l', 'est', 'le', 'tes', 'avions', 'ai', 'aie', 'vos', 'étante', 'eue', 'avec', 'sont', 'serai', 'sa', 'seront', 'serait', 'auront', 'toi', 'étées', 'soient', 'aies', 'été', 'ont', 'qu', 'moi', 'ait', 'aura', 'ne', 'aurais', 'es', 'serais', 'ayant', 'tu', 'ayants', 'ayez', 'm', 'j', 'ma', 'ses', 'étantes', 'même', 'elle', 'ce', 'mon', 'avez', 'eût', 'aviez', 's', 'eues', 'votre', 'eurent', 'pour', 'ayantes', 'as', 'aurez', 'seriez', 'fusses', 'suis', 'soyons', 'te', 'fût', 'avait', 'serions', 'que', 'une', 'aurai', 'avons', 'ta', 'en', 'soyez', 'à', 'des'}\n"
     ]
    },
    {
     "name": "stderr",
     "output_type": "stream",
     "text": [
      "[nltk_data] Downloading package stopwords to\n",
      "[nltk_data]     C:\\Users\\pc\\AppData\\Roaming\\nltk_data...\n",
      "[nltk_data]   Package stopwords is already up-to-date!\n"
     ]
    }
   ],
   "execution_count": 6
  },
  {
   "metadata": {
    "ExecuteTime": {
     "end_time": "2025-03-16T18:07:35.882321Z",
     "start_time": "2025-03-16T18:07:35.868084Z"
    }
   },
   "cell_type": "code",
   "source": [
    "text = \" \".join(X[\"email\"].astype(str))\n",
    "\n",
    "words = re.findall(r'\\b\\w+\\b', text.lower())\n",
    "\n",
    "filtered_words = [word for word in words if word not in stop_words]\n",
    "print(filtered_words)\n",
    "word_counts = Counter(filtered_words)\n",
    "\n",
    "print(word_counts.most_common(10))"
   ],
   "id": "bdd9a0762ef023a3",
   "outputs": [
    {
     "name": "stdout",
     "output_type": "stream",
     "text": [
      "['félicitations', 'choisi', 'cadeau', 'exceptionnel', 'urgent', 'gagné', 'bonus', 'exceptionnel', 'cliquez', 'ici', 'récupérer', 'récompense', 'compte', 'bancaire', 'bloqué', 'veuillez', 'saisir', 'informations', 'carte', 'bancaire', 'éviter', 'suspension', 'virement', 'instantané', 'reçu', '500', 'saisissez', 'informations', 'paypal', 'débloquer', 'choisi', 'inscrivez', 'gratuitement', 'recevoir', 'récompense', 'immédiate', 'devenez', 'riche', 'rapidement', 'gagnez', 'millions', 'sans', 'effort', 'quelques', 'jours', 'besoin', 'aide', 'urgente', 'pouvez', 'envoyer', 'argent', 'rapidement', 'abonnement', 'netflix', 'va', 'être', 'annulé', 'confirmez', 'paiement', 'ici', 'lien', 'suspect', 'urgent', 'compte', 'suspendu', '24h', 'si', 'mettez', 'jour', 'informations', 'immédiatement', 'offre', 'limitée', '50', 'tous', 'produits', 'uniquement', 'pendant', '2', 'heures', 'urgent', 'dernier', 'jour', 'profiter', 'cette', 'offre', 'unique', 'urgent', 'gagné', 'iphone', 'cliquez', 'ici', 'réclamer', 'prix', 'avant', 'trop', 'tard', 'urgent', 'livraison', 'a', 'effectuée', 'cliquez', 'ici', 'reprogrammer', 'gratuit', 'téléchargez', 'cette', 'application', 'recevez', 'bonus', '500', 'bonjour', 'compte', 'a', 'compromis', 'temporairement', 'limité', 'accès', 'raisons', 'sécurité', 'réactiver', 'compte', 'cliquez', 'immédiatement', 'lien', 'ci', 'dessous', 'suivez', 'instructions', 'lien', 'suspect', 'si', 'réagissez', '24', 'heures', 'compte', 'définitivement', 'suspendu', 'cordialement', 'service', 'sécurité', 'cher', 'utilisateur', 'mis', 'jour', 'politique', 'sécurité', 'devez', 'confirmer', 'informations', 'immédiatement', 'éviter', 'toute', 'interruption', 'service', 'accédez', 'compte', 'ici', 'lien', 'suspect', 'si', 'ignorez', 'cet', 'email', 'compte', 'suspendu', 'définitivement', 'cordialement', 'équipe', 'support', 'client', 'cher', 'client', 'détecté', 'activité', 'suspecte', 'compte', 'éviter', 'suspension', 'veuillez', 'connecter', 'immédiatement', 'vérifier', 'informations', 'cliquez', 'ici', 'lien', 'suspect', 'ceci', 'dernier', 'avertissement', 'cordialement', 'équipe', 'support', 'félicitations', 'heureux', 'gagnant', 'iphone', '15', 'gratuit', 'confirmez', 'adresse', 'livraison', 'ici', 'bit', 'ly', 'iphonegagnant', 'félicitations', 'sélectionné', 'recevoir', '1000', 'gratuits', 'cliquez', 'vite', 'lien', 'suivant', 'réclamer', 'prix', 'bit', 'ly', 'gain1000', 'travaillez', '2', 'heures', 'jour', 'gagnez', 'jusqu', '5000', 'mois', 'ratez', 'cette', 'offre', 'exclusive', 'inscrivez', 'ici', 'bit', 'ly', 'travailfacile', 'cher', 'client', 'compte', 'bancaire', 'a', 'compromis', 'mettez', 'jour', 'informations', 'immédiatement', 'cliquant', 'ici', 'bit', 'ly', 'banksecure', 'découvrez', 'pilule', 'miracle', 'approuvée', 'experts', 'perdez', 'poids', 'rapidement', 'sans', 'régime', 'ni', 'sport', 'commandez', 'maintenant', 'bit', 'ly', 'minceur10kg', 'appareil', 'a', 'infecté', 'virus', 'protéger', 'données', 'téléchargez', 'outil', 'sécurité', 'maintenant', 'téléchargez', 'outil', 'ici', 'tardez', 'sécurité', 'appareil', 'danger', 'voici', 'facture', 'mois', 'mars', 'ouvrez', 'pièce', 'jointe', 'plus', 'détails', 'important', 'document', 'attente', 'veuillez', 'ouvrir', 'plus', 'informations', 'bonjour', 'téléchargez', 'fichier', 'attaché', 'effectuer', 'analyse', 'complète', 'appareil', 'corriger', 'problème', 'détecté', 'bonjour', 'cliquez', 'fichier', 'joint', 'finaliser', 'maintenance', 'ordinateur', 'éviter', 'toute', 'défaillance', 'bonjour', 'appareil', 'verrouillé', 'récupérer', 'fichiers', 'ouvrez', 'fichier', 'joint', 'suivez', 'instructions', 'déverrouillez', 'pc', 'ici', 'bonjour', 'mot', 'passe', 'a', 'réinitialisé', 'ouvrez', 'fichier', 'joint', 'récupérer', 'nouvelles', 'informations', 'bonjour', 'détecté', 'tentative', 'connexion', 'suspecte', 'ouvrez', 'fichier', 'joint', 'confirmer', 'identité', 'sécuriser', 'appareil', 'bonjour', 'détecté', 'activités', 'suspectes', 'appareil', 'veuillez', 'ouvrir', 'fichier', 'joint', 'vérifier', 'appareil', 'éviter', 'perte', 'données', 'appareil', 'rencontre', 'erreur', 'critique', 'téléchargez', 'fichier', 'attaché', 'résoudre', 'problème', 'éviter', 'perte', 'données', 'bonjour', 'afin', 'sécuriser', 'appareil', 'veuillez', 'ouvrir', 'fichier', 'joint', 'confirmer', 'informations', 'personnelles', 'offre', 'spéciale', 'achetez', '1', 'montre', 'recevez', '2', 'gratuitement', 'profitez', 'maintenant', 'bit', 'ly', 'montredeal', 'maquillage', 'luxe', '80', 'uniquement', 'aujourd', 'hui', 'commandez', 'ici', 'bit', 'ly', 'makeup80', 'chaussures', 'tendance', 'prix', 'imbattable', 'livraison', 'offerte', 'commandez', 'ici', 'bit', 'ly', 'shoesdeal', 'smartphones', 'dernier', 'cri', 'partir', '99', 'profitez', 'avant', 'rupture', 'stock', 'bit', 'ly', 'phonepromo', 'programme', 'minceur', 'révolutionnaire', 'perdez', '10kg', '2', 'semaines', 'essayez', 'gratuitement', 'bit', 'ly', 'minceurdeal', 'casque', 'audio', 'haute', 'qualité', 'seulement', '29', '99', 'offre', 'limitée', 'commandez', 'ici', 'bit', 'ly', 'casquebest', 'meubles', 'luxe', 'prix', 'choc', 'livraison', 'express', 'commandez', 'maintenant', 'bit', 'ly', 'meublespromo', 'formations', 'ligne', 'gratuites', 'apprenez', 'nouveau', 'métier', 'aujourd', 'hui', 'bit', 'ly', 'formationsgratos', '1000', 'bonus', 'trading', 'bien', 'démarrer', 'inscrivez', 'maintenant', 'bit', 'ly', 'tradingpro', 'carte', 'bancaire', 'sans', 'frais', 'achats', 'ligne', 'ouvrez', 'compte', 'ici', 'bit', 'ly', 'cartegratuite', 'investissez', 'crypto', 'dès', 'aujourd', 'hui', 'triplez', 'argent', 'mois', 'bit', 'ly', 'cryptoexp', 'disque', 'dur', 'présente', 'erreurs', 'critiques', 'risquent', 'causer', 'perte', 'données', 'téléchargez', 'immédiatement', 'fichier', 'joint', 'effectuer', 'réparation', 'détecté', 'erreur', 'système', 'pourrait', 'compromettre', 'fichiers', 'ouvrez', 'fichier', 'joint', 'réparer', 'système', 'éviter', 'défaillances', 'analyse', 'système', 'a', 'révélé', 'plusieurs', 'vulnérabilités', 'critiques', 'veuillez', 'télécharger', 'fichier', 'ci', 'joint', 'effectuer', 'réparation', 'immédiate', 'éviter', 'intrusions', 'logiciels', 'malveillants', 'détecté', 'tentative', 'intrusion', 'appareil', 'sécuriser', 'fichiers', 'protéger', 'données', 'veuillez', 'télécharger', 'fichier', 'ci', 'joint', 'suivez', 'instructions', 'fichiers', 'essentiels', 'corrompus', 'ordinateur', 'téléchargez', 'fichier', 'ci', 'joint', 'réparer', 'récupérer', 'données', 'système', 'nécessite', 'mise', 'jour', 'corriger', 'failles', 'sécurité', 'téléchargez', 'fichier', 'joint', 'installer', 'cette', 'mise', 'jour', 'protéger', 'fichiers', 'fichiers', 'système', 'essentiels', 'corrompus', 'risque', 'bloquer', 'appareil', 'ouvrez', 'immédiatement', 'fichier', 'joint', 'effectuer', 'réparation', 'erreur', 'a', 'empêché', 'sauvegarde', 'fichiers', 'téléchargez', 'fichier', 'joint', 'réparer', 'sauvegarde', 'éviter', 'perdre', 'données', 'importantes', 'détecté', 'erreur', 'accès', 'espace', 'stockage', 'téléchargez', 'fichier', 'ci', 'joint', 'corriger', 'problème', 'récupérer', 'accès', 'fichiers', 'fichiers', 'temporairement', 'inaccessibles', 'téléchargez', 'fichier', 'joint', 'récupérer', 'données', 'éviter', 'toute', 'perte', 'permanente', 'personne', 'secrète', 'a', 'envoyé', 'message', 'veux', 'lire', 'bit', 'ly', 'messagecache', 'reçois', '5', 'demandes', 'rendez', '24h', 'célibataires', 'attendent', 'inscris', 'vite', 'avant', 'trop', 'tard', 'bit', 'ly', 'inscriptionexpress', 'salut', 'commencez', 'activité', 'dès', 'maintenant', 'propre', 'patron', 'tout', 'générant', 'revenu', 'supplémentaire', 'effectuez', 'débit', 'instantané', 'sécurisé', 'compte', 'paypal', 'profitez', 'inscription', 'gratuite', 'recevez', 'cadeau', 'spécial', 'bonus', 'cette', 'offre', 'spéciale', 'disponible', 'durée', 'limitée', 'manquez', 'cette', 'promotion', 'exceptionnelle', 'rabais', '50', 'tous', 'produits', 'tenté', 'livrer', 'colis', 'deux', 'reprises', 'raison', 'adresse', 'incomplète', 'colis', 'a', 'pu', 'être', 'livré', 'éviter', 'retour', 'veuillez', 'soumettre', 'nouveau', 'adresse', 'livraison', 'valide', '12', 'heures', 'voir', 'ici', 'https', 'dhl', 'service', 'client', 'quest', 'update', 'veuillez', 'répondre', 'o', 'puis', 'quitter', 'email', 'ouvrir', 'nouveau', 'activer', 'lien', 'copier', 'lien', 'ouvrir', 'safari', 'cher', 'utilisateur', 'détecté', 'activité', 'suspecte', 'compte', 'éviter', 'restriction', 'compte', 'veuillez', 'cliquer', 'ici', 'maintenant', 'vérifier', 'informations', 'cordialement', 'support', 'technique', 'bonjour', 'abonnement', 'premium', 'a', 'expiré', 'compte', 'suspendu', 'si', 'recevons', 'renouvellement', 'sous', '24', 'heures', 'renouveler', 'abonnement', 'veuillez', 'cliquer', 'lien', 'ci', 'dessous', 'renouveler', 'abonnement', 'https', 'account', 'renewal', 'service', 'com', 'update', 'cher', 'client', 'toujours', 'reçu', 'paiement', 'dernière', 'facture', 'afin', 'éviter', 'frais', 'supplémentaires', 'veuillez', 'effectuer', 'paiement', 'immédiatement', 'payer', 'maintenant', 'https', 'secure', 'payment', 'system', 'com', 'pay', 'objet', 'gagnez', 'argent', 'rapidement', 'gagnant', 'bon', 'cadeau', '500', 'cliquez', 'ici', 'maintenant', 'réclamer', 'récompense', 'http', 'gratuit', 'offre', 'cadeau', 'xyz', 'faites', 'vite', 'offre', 'limitée', 'objet', 'attention', 'compte', 'bloqué', 'détecté', 'activité', 'suspecte', 'compte', 'débloquer', 'accès', 'cliquez', 'lien', 'immédiatement', 'http', 'www', 'paypa1', 'security', 'login', 'com', 'évitez', 'suspension', 'immédiate', 'objet', 'mise', 'jour', 'carte', 'bancaire', 'immediate', 'carte', 'crédit', 'doit', 'être', 'vérifiée', 'éviter', 'toute', 'interruption', 'service', 'cliquez', 'lien', 'sécurisé', 'ici', 'http', 'confirm', 'your', 'account', 'login', 'com', 'bank', 'ignorer', 'cette', 'alerte', 'cher', 'utilisateur', 'raisons', 'sécurité', 'devons', 'vérifier', 'informations', 'compte', 'si', 'complétez', 'cette', 'vérification', 'sous', '24', 'heures', 'compte', 'verrouillé', 'vérifier', 'compte', 'https', 'account', 'verification', 'service', 'com', 'check', 'cher', 'client', 'éligible', 'remboursement', 'intégral', 'achat', 'précédent', 'veuillez', 'réclamer', 'remboursement', 'cliquant', 'lien', 'ci', 'dessous', 'réclamer', 'remboursement', 'https', 'refund', 'claim', 'service', 'com', 'submit', 'félicitations', 'sélectionné', 'offre', 'exclusive', 'gains', 'rapides', 'manquez', 'cette', 'chance', 'gagner', 'argent', 'quelques', 'clics', 'commencer', 'maintenant', 'https', 'easy', 'money', 'making', 'com', 'start', 'bonjour', 'détecté', 'virus', 'appareil', 'protéger', 'données', 'personnelles', 'sécurité', 'veuillez', 'télécharger', 'installer', 'immédiatement', 'outil', 'sécurité', 'mis', 'jour', 'télécharger', 'ici', 'https', 'malware', 'protection', 'update', 'com', 'install', 'cher', 'utilisateur', 'commande', 'a', 'expédiée', 'succès', 'veuillez', 'ouvrir', 'pièce', 'jointe', 'voir', 'récapitulatif', 'confirmation', 'livraison', 'pièce', 'jointe', 'commande_détails', 'exe', 'attention', 'fichier', 'exécutable', 'dangereux', 'cher', 'utilisateur', 'mise', 'jour', 'critique', 'système', 'nécessaire', 'corriger', 'vulnérabilités', 'sécurité', 'cette', 'mise', 'jour', 'obligatoire', 'continuer', 'utiliser', 'appareil', 'toute', 'sécurité', 'télécharger', 'installer', 'mise', 'jour', 'ici', 'https', 'critical', 'update', 'fix', 'com', 'install', 'cher', 'utilisateur', 'détecté', 'activité', 'suspecte', 'compte', 'temporairement', 'verrouillé', 'accès', 'restaurer', 'accès', 'veuillez', 'télécharger', 'fichier', 'vérification', 'joint', 'exécuter', 'rétablir', 'compte', 'fichier', 'joint', 'restaurer_compte', 'zip', 'attention', 'fichier', 'compressé', 'contenant', 'malware', 'bonjour', 'mot', 'passe', 'a', 'réinitialisé', 'succès', 'si', 'origine', 'cette', 'demande', 'veuillez', 'cliquer', 'lien', 'ci', 'dessous', 'annuler', 'cette', 'modification', 'cliquez', 'ici', 'annuler', 'réinitialisation', 'https', 'account', 'recovery', 'security', 'com', 'cancel', 'site', 'malveillant', 'nouveau', 'message', 'vocal', 'écouter', 'veuillez', 'ouvrir', 'pièce', 'jointe', 'exécuter', 'fichier', 'audio', 'pièce', 'jointe', 'nouveau_message_vocal', 'exe', 'félicitations', 'choisi', 'recevoir', 'gain', 'instantané', 'laissez', 'cette', 'occasion', 'passer', 'cliquez', 'maintenant', 'commencez', 'gagner', 'cliquez', 'ici', 'réclamer', 'https', 'make', 'money', 'fast', 'now', 'com', 'claim', 'offre', 'valable', '24h', 'seulement', 'cherclient', 'votrecolisestenattenteetpeutêtrerécupérépour', 'unesommesymbolique', '500', 'cliquez', 'immédiatement', 'finaliser', 'transaction', 'recevoir', 'colis', 'gratuitement', 'finalisez', 'paiement', 'ici', 'https', 'shipping', 'payment', 'com', 'checkout', 'découvrez', 'comment', 'gagner', 'facilement', 'facilement', 'portée', 'main', 'apprenez', 'comment', 'pouvez', 'gagner', 'seulement', '24', 'heures', 'perdez', 'seconde', 'commencez', 'gagner', 'cliquez', 'ici', 'savoir', 'plus', 'https', 'easy', 'money', 'now', 'com', 'start', 'gagné', 'cliquez', 'ici', 'récupérer', 'prix', 'étéchoisipourrecevoirun', 'prixde', 'suffit', 'cliquer', 'lien', 'ci', 'dessous', 'obtenir', 'récompense', 'immédiatement', 'réclamer', 'https', 'win', 'big', 'money', 'com', 'claim', 'sélectionné', 'cadeau', 'rien', 'bon', 'achat', '50', 'activé', 'prêt', 'être', 'utilisé', 'immédiatement', 'comment', 'utiliser', '1', 'ajoute', 'articles', 'préférés', 'panier', '2', 'entre', 'code', 'cadeau2024', 'caisse', '3', 'profite', 'réduction', 'immédiate', 'attention', 'cette', 'offre', 'expire', '3', 'heures', 'laisse', 'passer', 'cette', 'occasion', 'bonne', 'nouvelle', 'vérifié', 'dossier', 'éligible', 'remboursement', 'immédiat', '500', 'dois', 'faire', 'clique', 'ici', 'confirmer', 'informations', 'reçois', 'virement', 'sous', '24h', 'attention', 'cette', 'offre', 'valable', 'seulement', 'aujourd', 'hui', 'demander', 'remboursement', 'cordialement', 'reste', 'plus', 'quelques', 'heures', 'profiter', 'offre', 'exclusive', 'offrons', '85', 'tout', 'vu', 'boutique', 'utilise', 'code', 'destock85', 'caisse', 'fais', 'plaisir', 'voici', 'quelques', 'unes', 'meilleures', 'offres', 'télévision', '4k', 'ultra', 'hd', '399', 'lieu', '2', '500', 'écouteurs', 'sans', 'fil', '45', 'lieu', '200', 'batterie', 'externe', '15', 'lieu', '70', 'cette', 'offre', 'expire', 'soir', 'minuit', 'alors', 'perds', 'temps', 'veux', 'produits', '85', 'bientôt', 'cher', 'utilisateur', 'besoin', 'argent', 'rapidement', 'offrons', 'prêt', 'instantané', 'jusqu', '5000', 'sans', 'aucun', 'justificatif', 'ni', 'enquête', 'crédit', 'taux', 'plus', 'bas', 'marché', 'pouvez', 'recevoir', 'argent', 'moins', '24', 'heures', 'cliquez', 'ici', 'recevoir', 'prêt', 'maintenant', 'www', 'prêt', 'rapide', 'com', 'bonjour', 'iphone', '13', 'vendre', 'moitié', 'prix', 'occasion', 'or', 'procurer', 'téléphone', 'dernier', 'cri', 'fraction', 'prix', 'habituel', 'quantités', 'limitées', 'commandez', 'vôtre', 'maintenant', 'avant', 'trop', 'tard', 'www', 'superdealphones', 'com', 'cher', 'investisseur', 'potentiel', 'offrons', 'opportunité', 'investir', '100', 'projet', 'ultra', 'rentable', 'voir', 'investissement', 'multiplier', '50', 'seulement', '2', 'semaines', 'places', 'limitées', 'alors', 'manquez', 'cette', 'chance', 'inscrivez', 'maintenant', 'commencer', 'www', 'investir100', 'com', 'salut', 'souhaitez', 'connaître', 'secrets', 'amis', 'instagram', 'outil', 'piratage', 'permet', 'accéder', 'importe', 'quel', 'compte', 'instagram', 'seulement', '5', 'minutes', 'simple', 'rapide', 'anonyme', 'téléchargez', 'gratuitement', 'ici', 'www', 'piratezcompte', 'com', 'oublié', 'mot', 'passe', 'développé', 'logiciel', 'piratage', 'mots', 'passe', 'capable', 'décrypter', 'importe', 'quelle', 'clé', 'accès', 'comptes', 'bancaires', 'réseaux', 'sociaux', 'téléchargez', 'maintenant', 'retrouvez', 'informations', 'perdues', 'www', 'pirateur', 'motsdepasse', 'com']\n",
      "[('ici', 29), ('fichier', 23), ('compte', 22), ('com', 19), ('veuillez', 18), ('cette', 18), ('bit', 18), ('ly', 18), ('joint', 18), ('cliquez', 17)]\n"
     ]
    }
   ],
   "execution_count": 7
  },
  {
   "metadata": {
    "ExecuteTime": {
     "end_time": "2025-03-16T18:04:50.649163Z",
     "start_time": "2025-03-16T18:04:33.069732Z"
    }
   },
   "cell_type": "code",
   "source": [
    "import stanza\n",
    "\n",
    "nlp = stanza.Pipeline(\"fr\", processors=\"tokenize,mwt,pos,lemma\")\n",
    "\n",
    "text = \"Nous avons envoyé les documents. Vous recevrez une réponse demain.\"\n",
    "doc = nlp(text)\n",
    "\n",
    "lemmatized_text = \" \".join([word.lemma for sentence in doc.sentences for word in sentence.words])\n",
    "print(lemmatized_text)"
   ],
   "id": "d93b58e6bfafbdd3",
   "outputs": [
    {
     "name": "stderr",
     "output_type": "stream",
     "text": [
      "2025-03-16 18:04:33 INFO: Checking for updates to resources.json in case models have been updated.  Note: this behavior can be turned off with download_method=None or download_method=DownloadMethod.REUSE_RESOURCES\n",
      "Downloading https://raw.githubusercontent.com/stanfordnlp/stanza-resources/main/resources_1.10.0.json: 424kB [00:00, 31.8MB/s]                    \n",
      "2025-03-16 18:04:33 INFO: Downloaded file to C:\\Users\\pc\\stanza_resources\\resources.json\n",
      "2025-03-16 18:04:36 INFO: Loading these models for language: fr (French):\n",
      "=================================\n",
      "| Processor | Package           |\n",
      "---------------------------------\n",
      "| tokenize  | combined          |\n",
      "| mwt       | combined          |\n",
      "| pos       | combined_charlm   |\n",
      "| lemma     | combined_nocharlm |\n",
      "=================================\n",
      "\n",
      "2025-03-16 18:04:36 INFO: Using device: cpu\n",
      "2025-03-16 18:04:36 INFO: Loading: tokenize\n",
      "2025-03-16 18:04:36 INFO: Loading: mwt\n",
      "2025-03-16 18:04:36 INFO: Loading: pos\n",
      "2025-03-16 18:04:45 INFO: Loading: lemma\n",
      "2025-03-16 18:04:50 INFO: Done loading processors!\n"
     ]
    },
    {
     "name": "stdout",
     "output_type": "stream",
     "text": [
      "nous avoir envoyer le document . vous recevoir un réponse demain .\n"
     ]
    }
   ],
   "execution_count": 2
  }
 ],
 "metadata": {
  "kernelspec": {
   "display_name": "Python 3",
   "language": "python",
   "name": "python3"
  },
  "language_info": {
   "codemirror_mode": {
    "name": "ipython",
    "version": 2
   },
   "file_extension": ".py",
   "mimetype": "text/x-python",
   "name": "python",
   "nbconvert_exporter": "python",
   "pygments_lexer": "ipython2",
   "version": "2.7.6"
  }
 },
 "nbformat": 4,
 "nbformat_minor": 5
}
